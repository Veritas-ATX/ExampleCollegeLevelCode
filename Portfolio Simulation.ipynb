{
 "cells": [
  {
   "cell_type": "markdown",
   "metadata": {},
   "source": [
    "<h1><center>ORF 311 Final Project</center></h1>\n",
    "<h3><center>By: Austin Stiefelmaier</center></h3>"
   ]
  },
  {
   "cell_type": "code",
   "execution_count": 1,
   "metadata": {
    "collapsed": true
   },
   "outputs": [],
   "source": [
    "# Imports\n",
    "import numpy as np\n",
    "import cvxpy as cp\n",
    "import pandas as pd\n",
    "import matplotlib.pyplot as plt"
   ]
  },
  {
   "cell_type": "code",
   "execution_count": 2,
   "metadata": {
    "collapsed": true,
    "scrolled": false
   },
   "outputs": [],
   "source": [
    "# Dataset imports\n",
    "assets = pd.read_excel('Assets_and_Factors.xlsx', sheet_name = 'Assets', usecols = 'B:E')\n",
    "factors = pd.read_excel('Assets_and_Factors.xlsx', sheet_name = 'Factors', usecols = 'B:F')\n",
    "\n",
    "# Add intercept column as last column\n",
    "factors['Intercept'] = pd.Series(np.ones(len(factors.index)), index=factors.index)\n",
    "\n",
    "# Separate assets\n",
    "USEquities = assets[['US Equities']]\n",
    "RealEstate = assets[['Real Estate']]\n",
    "Commodities = assets[['Commodities']]\n",
    "CorpBonds = assets[['Corp Bonds']]\n",
    "\n",
    "# Convert to numpy arrays\n",
    "factors = factors.values\n",
    "USEquities = USEquities.values\n",
    "RealEstate = RealEstate.values\n",
    "Commodities = Commodities.values\n",
    "CorpBonds = CorpBonds.values"
   ]
  },
  {
   "cell_type": "markdown",
   "metadata": {},
   "source": [
    "**Part 1:**"
   ]
  },
  {
   "cell_type": "code",
   "execution_count": 8,
   "metadata": {},
   "outputs": [
    {
     "name": "stdout",
     "output_type": "stream",
     "text": [
      "Volatility of US Equities: 0.044908085367479644\n",
      "VaR (5%) of US Equities: -0.0695674\n",
      "Volatility of Real Estate: 0.054702551343041333\n",
      "VaR (5%) of Real Estate: -0.0578484\n",
      "Volatility of Commodities: 0.058694759719394\n",
      "VaR (5%) of Commodities: -0.09187179999999999\n",
      "Volatility of Corp Bonds: 0.018710468687153436\n",
      "VaR (5%) of Corp Bonds: -0.018559399999999993\n"
     ]
    }
   ],
   "source": [
    "# Generate risk profile for each asset\n",
    "volUSE = np.std(USEquities)\n",
    "varUSE = np.percentile(USEquities, 5)\n",
    "volRE = np.std(RealEstate)\n",
    "varRE = np.percentile(RealEstate, 5)\n",
    "volCom = np.std(Commodities)\n",
    "varCom = np.percentile(Commodities, 5)\n",
    "volCB = np.std(CorpBonds)\n",
    "varCB = np.percentile(CorpBonds, 5)\n",
    "\n",
    "print(\"Volatility of US Equities: \" + str(volUSE))\n",
    "print(\"VaR (5%) of US Equities: \" + str(varUSE))\n",
    "print(\"Volatility of Real Estate: \" + str(volRE))\n",
    "print(\"VaR (5%) of Real Estate: \" + str(varRE))\n",
    "print(\"Volatility of Commodities: \" + str(volCom))\n",
    "print(\"VaR (5%) of Commodities: \" + str(varCom))\n",
    "print(\"Volatility of Corp Bonds: \" + str(volCB))\n",
    "print(\"VaR (5%) of Corp Bonds: \" + str(varCB))"
   ]
  },
  {
   "cell_type": "markdown",
   "metadata": {},
   "source": [
    "**Part 2:**"
   ]
  },
  {
   "cell_type": "code",
   "execution_count": 10,
   "metadata": {},
   "outputs": [],
   "source": [
    "# Get covariance matrix, Q\n",
    "Q = np.cov(np.concatenate((USEquities, RealEstate, Commodities, CorpBonds), axis = 1), rowvar = False)"
   ]
  },
  {
   "cell_type": "code",
   "execution_count": 12,
   "metadata": {},
   "outputs": [
    {
     "data": {
      "text/plain": [
       "(10000, 4, 60)"
      ]
     },
     "execution_count": 12,
     "metadata": {},
     "output_type": "execute_result"
    }
   ],
   "source": [
    "# Get simulated values where it's a 3d array of (10000, 4, 60) where there are 10000 scenarios, 4 assets,\n",
    "# and 60 periods (5 years) \n",
    "r = np.array([0.00448, 0.00171, 0.00551, 0.00393])\n",
    "simVals = np.random.normal(r, Q)\n",
    "for x in range(2499):\n",
    "    sim = np.random.normal(r, Q)\n",
    "    simVals = np.concatenate((simVals, sim), axis = 0)\n",
    "totalSimVals = simVals\n",
    "for x in range(59):\n",
    "    simVals = np.random.normal(r, Q)\n",
    "    for x in range(2499):\n",
    "        sim = np.random.normal(r, Q)\n",
    "        simVals = np.concatenate((simVals, sim), axis = 0)\n",
    "    totalSimVals = np.dstack((totalSimVals, simVals))\n",
    "totalSimVals.shape"
   ]
  },
  {
   "cell_type": "markdown",
   "metadata": {},
   "source": [
    "**Part 3:**"
   ]
  },
  {
   "cell_type": "code",
   "execution_count": 43,
   "metadata": {},
   "outputs": [
    {
     "data": {
      "image/png": "[encoded data removed]",
      "text/plain": [
       "<Figure size 432x288 with 1 Axes>"
      ]
     },
     "metadata": {},
     "output_type": "display_data"
    },
    {
     "name": "stdout",
     "output_type": "stream",
     "text": [
      "Sharpe Ratio Allocation: [5.64462132e-02 7.71074791e-08 8.79461014e-02 8.55607608e-01]\n"
     ]
    }
   ],
   "source": [
    "# Plot efficient frontier\n",
    "variances = []\n",
    "returns = np.arange(0.002, 0.0055, 0.00005)\n",
    "actualret = []\n",
    "maxSharpe = 0\n",
    "sharpeAlloc = []\n",
    "sharpeRet = 0\n",
    "sharpeVar = 0\n",
    "rfree = 0.001\n",
    "for i in range(returns.size):\n",
    "    w = cp.Variable((4))\n",
    "    constraints = [w * r >= returns[i], cp.sum(w) == 1, w >= 0]\n",
    "    obj = cp.Minimize(cp.quad_form(w, Q))\n",
    "    prob = cp.Problem(obj, constraints)\n",
    "    prob.solve()\n",
    "    variances.append(prob.value)\n",
    "    actual = np.dot(w.value, r)\n",
    "    actualret.append(actual)\n",
    "    sharpe = (actual - rfree) / prob.value\n",
    "    if sharpe > maxSharpe:\n",
    "        maxSharpe = sharpe\n",
    "        sharpeAlloc = w.value\n",
    "        sharpeRet = actual\n",
    "        sharpeVar = prob.value\n",
    "plt.plot(variances, actualret)\n",
    "plt.plot(sharpeVar, sharpeRet, 'bo')\n",
    "plt.xlabel('Variance');\n",
    "plt.ylabel('Return');\n",
    "plt.title('Plot of Efficient Frontier')\n",
    "plt.show()\n",
    "print('Sharpe Ratio Allocation: ' + str(sharpeAlloc))"
   ]
  },
  {
   "cell_type": "markdown",
   "metadata": {},
   "source": [
    "**Part 4:**"
   ]
  },
  {
   "cell_type": "code",
   "execution_count": 67,
   "metadata": {},
   "outputs": [
    {
     "name": "stdout",
     "output_type": "stream",
     "text": [
      "MAX SHARPE RATIO ALLOCATION:\n",
      "Mean Wealth at 3 years: 402924.33082674444\n",
      "Variance of Wealth at 3 years: 128930.01707690168\n",
      "Value at Risk (5%) of Wealth at 3 years: 402322.3050755858\n",
      "Probability of Meeting the Goal at 3 years: 1.0\n",
      "\n",
      "Mean Wealth at 3 years: 541910.2717646355\n",
      "Variance of Wealth at 4 years: 314394.35268830066\n",
      "Value at Risk (5%) of Wealth at 4 years: 540990.1006586661\n",
      "Probability of Meeting the Goal at 4 years: 1.0\n",
      "\n",
      "Mean Wealth at 5 years: 699769.8363324027\n",
      "Variance of Wealth at 5 years: 662464.96903287\n",
      "Value at Risk (5%) of Wealth at 5 years: 698422.813722092\n",
      "Probability of Meeting the Goal at 5 years: 1.0\n"
     ]
    }
   ],
   "source": [
    "# Simulate wealth path for asset allocation according to max Sharpe Ratio\n",
    "weights = sharpeAlloc\n",
    "capital = np.zeros((10000, 60))\n",
    "for s in range(10000):\n",
    "    salary = 95000\n",
    "    cap = salary * 0.85 # initial wealth to invest after savings\n",
    "    for t in range(60):\n",
    "        if (t+1) % 12 == 0:\n",
    "            salary *= 1.1 # Grow salary by 10% if in new year\n",
    "            cap += salary * 0.85 # Add after savings salary to capital\n",
    "        cap += np.sum(weights * cap * totalSimVals[s,::,t])\n",
    "        capital[s, t] = cap\n",
    "avgCap = np.mean(capital, axis = 0)\n",
    "\n",
    "print('MAX SHARPE RATIO ALLOCATION:')\n",
    "print('Mean Wealth at 3 years: ' + str(avgCap[35]))\n",
    "print('Variance of Wealth at 3 years: ' + str(np.std(capital, axis = 0)[35] ** 2))\n",
    "print('Value at Risk (5%) of Wealth at 3 years: ' + str(np.percentile(capital, 5, axis = 0)[35]))\n",
    "print('Probability of Meeting the Goal at 3 years: ' + str((capital[:,35] > 100000).sum() / 10000.0) + '\\n')\n",
    "\n",
    "print('Mean Wealth at 3 years: ' + str(avgCap[47]))\n",
    "print('Variance of Wealth at 4 years: ' + str(np.std(capital, axis = 0)[47] ** 2))\n",
    "print('Value at Risk (5%) of Wealth at 4 years: ' + str(np.percentile(capital, 5, axis = 0)[47]))\n",
    "print('Probability of Meeting the Goal at 4 years: ' + str((capital[:,47] > 100000).sum() / 10000.0) + '\\n')\n",
    "\n",
    "print('Mean Wealth at 5 years: ' + str(avgCap[-1]))\n",
    "print('Variance of Wealth at 5 years: ' + str(np.std(capital, axis = 0)[-1] ** 2))\n",
    "print('Value at Risk (5%) of Wealth at 5 years: ' + str(np.percentile(capital, 5, axis = 0)[-1]))\n",
    "print('Probability of Meeting the Goal at 5 years: ' + str((capital[:,-1] > 100000).sum() / 10000.0))"
   ]
  },
  {
   "cell_type": "code",
   "execution_count": 70,
   "metadata": {},
   "outputs": [
    {
     "name": "stdout",
     "output_type": "stream",
     "text": [
      "60/40 RULE ALLOCATION:\n",
      "Mean Wealth at 3 years: 404091.18202867504\n",
      "Variance of Wealth at 3 years: 1063400.0003676496\n",
      "Value at Risk (5%) of Wealth at 3 years: 402327.1446511304\n",
      "Probability of Meeting the Goal at 3 years: 1.0\n",
      "\n",
      "Mean Wealth at 3 years: 543964.4796816173\n",
      "Variance of Wealth at 4 years: 2569714.418565346\n",
      "Value at Risk (5%) of Wealth at 4 years: 541245.3626803316\n",
      "Probability of Meeting the Goal at 4 years: 1.0\n",
      "\n",
      "Mean Wealth at 5 years: 703035.418397689\n",
      "Variance of Wealth at 5 years: 5564114.603986902\n",
      "Value at Risk (5%) of Wealth at 5 years: 698984.5131295949\n",
      "Probability of Meeting the Goal at 5 years: 1.0\n"
     ]
    }
   ],
   "source": [
    "# Simulate wealth path for asset allocation according to 60/40 rule\n",
    "weights = sharpeAlloc\n",
    "weights[0] = 0.6\n",
    "weights[1] = 0.0\n",
    "weights[2] = 0.0\n",
    "weights[3] = 0.4\n",
    "capital = np.zeros((10000, 60))\n",
    "for s in range(10000):\n",
    "    salary = 95000\n",
    "    cap = salary * 0.85 # initial wealth to invest after savings\n",
    "    for t in range(60):\n",
    "        if (t+1) % 12 == 0:\n",
    "            salary *= 1.1 # Grow salary by 10% if in new year\n",
    "            cap += salary * 0.85 # Add after savings salary to capital\n",
    "        cap += np.sum(weights * cap * totalSimVals[s,::,t])\n",
    "        capital[s, t] = cap\n",
    "avgCap = np.mean(capital, axis = 0)\n",
    "\n",
    "print('60/40 RULE ALLOCATION:')\n",
    "print('Mean Wealth at 3 years: ' + str(avgCap[35]))\n",
    "print('Variance of Wealth at 3 years: ' + str(np.std(capital, axis = 0)[35] ** 2))\n",
    "print('Value at Risk (5%) of Wealth at 3 years: ' + str(np.percentile(capital, 5, axis = 0)[35]))\n",
    "print('Probability of Meeting the Goal at 3 years: ' + str((capital[:,35] > 100000).sum() / 10000.0) + '\\n')\n",
    "\n",
    "print('Mean Wealth at 3 years: ' + str(avgCap[47]))\n",
    "print('Variance of Wealth at 4 years: ' + str(np.std(capital, axis = 0)[47] ** 2))\n",
    "print('Value at Risk (5%) of Wealth at 4 years: ' + str(np.percentile(capital, 5, axis = 0)[47]))\n",
    "print('Probability of Meeting the Goal at 4 years: ' + str((capital[:,47] > 100000).sum() / 10000.0) + '\\n')\n",
    "\n",
    "print('Mean Wealth at 5 years: ' + str(avgCap[-1]))\n",
    "print('Variance of Wealth at 5 years: ' + str(np.std(capital, axis = 0)[-1] ** 2))\n",
    "print('Value at Risk (5%) of Wealth at 5 years: ' + str(np.percentile(capital, 5, axis = 0)[-1]))\n",
    "print('Probability of Meeting the Goal at 5 years: ' + str((capital[:,-1] > 100000).sum() / 10000.0))"
   ]
  },
  {
   "cell_type": "code",
   "execution_count": 72,
   "metadata": {},
   "outputs": [
    {
     "name": "stdout",
     "output_type": "stream",
     "text": [
      "100% US Equities ALLOCATION:\n",
      "Mean Wealth at 3 years: 405700.33450176136\n",
      "Variance of Wealth at 3 years: 2937705.312185932\n",
      "Value at Risk (5%) of Wealth at 3 years: 402762.2314394501\n",
      "Probability of Meeting the Goal at 3 years: 1.0\n",
      "\n",
      "Mean Wealth at 3 years: 546807.6675385518\n",
      "Variance of Wealth at 4 years: 7146268.349374148\n",
      "Value at Risk (5%) of Wealth at 4 years: 542260.384946196\n",
      "Probability of Meeting the Goal at 4 years: 1.0\n",
      "\n",
      "Mean Wealth at 5 years: 707569.5710722515\n",
      "Variance of Wealth at 5 years: 15544890.565721536\n",
      "Value at Risk (5%) of Wealth at 5 years: 700818.4683342708\n",
      "Probability of Meeting the Goal at 5 years: 1.0\n"
     ]
    }
   ],
   "source": [
    "# Simulate wealth path for asset allocation according to my own portfolio strategy of 100% US Equities\n",
    "weights = sharpeAlloc\n",
    "weights[0] = 1.0\n",
    "weights[1] = 0.0\n",
    "weights[2] = 0.0\n",
    "weights[3] = 0.0\n",
    "capital = np.zeros((10000, 60))\n",
    "for s in range(10000):\n",
    "    salary = 95000\n",
    "    cap = salary * 0.85 # initial wealth to invest after savings\n",
    "    for t in range(60):\n",
    "        if (t+1) % 12 == 0:\n",
    "            salary *= 1.1 # Grow salary by 10% if in new year\n",
    "            cap += salary * 0.85 # Add after savings salary to capital\n",
    "        cap += np.sum(weights * cap * totalSimVals[s,::,t])\n",
    "        capital[s, t] = cap\n",
    "avgCap = np.mean(capital, axis = 0)\n",
    "\n",
    "print('100% US Equities ALLOCATION:')\n",
    "print('Mean Wealth at 3 years: ' + str(avgCap[35]))\n",
    "print('Variance of Wealth at 3 years: ' + str(np.std(capital, axis = 0)[35] ** 2))\n",
    "print('Value at Risk (5%) of Wealth at 3 years: ' + str(np.percentile(capital, 5, axis = 0)[35]))\n",
    "print('Probability of Meeting the Goal at 3 years: ' + str((capital[:,35] > 100000).sum() / 10000.0) + '\\n')\n",
    "\n",
    "print('Mean Wealth at 3 years: ' + str(avgCap[47]))\n",
    "print('Variance of Wealth at 4 years: ' + str(np.std(capital, axis = 0)[47] ** 2))\n",
    "print('Value at Risk (5%) of Wealth at 4 years: ' + str(np.percentile(capital, 5, axis = 0)[47]))\n",
    "print('Probability of Meeting the Goal at 4 years: ' + str((capital[:,47] > 100000).sum() / 10000.0) + '\\n')\n",
    "\n",
    "print('Mean Wealth at 5 years: ' + str(avgCap[-1]))\n",
    "print('Variance of Wealth at 5 years: ' + str(np.std(capital, axis = 0)[-1] ** 2))\n",
    "print('Value at Risk (5%) of Wealth at 5 years: ' + str(np.percentile(capital, 5, axis = 0)[-1]))\n",
    "print('Probability of Meeting the Goal at 5 years: ' + str((capital[:,-1] > 100000).sum() / 10000.0))"
   ]
  }
 ],
 "metadata": {
  "kernelspec": {
   "display_name": "Python 3",
   "language": "python",
   "name": "python3"
  },
  "language_info": {
   "codemirror_mode": {
    "name": "ipython",
    "version": 3
   },
   "file_extension": ".py",
   "mimetype": "text/x-python",
   "name": "python",
   "nbconvert_exporter": "python",
   "pygments_lexer": "ipython3",
   "version": "3.6.8"
  }
 },
 "nbformat": 4,
 "nbformat_minor": 2
}
